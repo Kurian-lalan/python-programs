{
 "cells": [
  {
   "cell_type": "markdown",
   "metadata": {},
   "source": [
    "# Some Python Programs\n"
   ]
  },
  {
   "cell_type": "code",
   "execution_count": 1,
   "metadata": {},
   "outputs": [
    {
     "name": "stdout",
     "output_type": "stream",
     "text": [
      "enter the number:\n",
      "n=5\n",
      "the multiplication table of 5 is:\n",
      "5 * 1 = 5 \n",
      "5 * 2 = 10 \n",
      "5 * 3 = 15 \n",
      "5 * 4 = 20 \n",
      "5 * 5 = 25 \n",
      "5 * 6 = 30 \n",
      "5 * 7 = 35 \n",
      "5 * 8 = 40 \n",
      "5 * 9 = 45 \n",
      "5 * 10 = 50 \n"
     ]
    }
   ],
   "source": [
    "# 1.program to print multiplication table of a number using function\n",
    "\n",
    "print(\"enter the number:\")\n",
    "n = int(input(\"n=\"))\n",
    "i=1\n",
    "\n",
    "def multable(m):\n",
    "    \"\"\"finding multiplication table\n",
    "    \"\"\"\n",
    "    res = m*i\n",
    "    return(res)\n",
    "print(\"the multiplication table of {} is:\" .format(n)) \n",
    "for i in range(1 , 11):\n",
    "    print(\"{} * {} = {} \" .format(n , i , multable(n)))"
   ]
  },
  {
   "cell_type": "code",
   "execution_count": 2,
   "metadata": {},
   "outputs": [
    {
     "name": "stdout",
     "output_type": "stream",
     "text": [
      "TWIN PRIMES less than 1000 :\n",
      "(3 , 5)\n",
      "(5 , 7)\n",
      "(11 , 13)\n",
      "(17 , 19)\n",
      "(29 , 31)\n",
      "(41 , 43)\n",
      "(59 , 61)\n",
      "(71 , 73)\n",
      "(101 , 103)\n",
      "(107 , 109)\n",
      "(137 , 139)\n",
      "(149 , 151)\n",
      "(179 , 181)\n",
      "(191 , 193)\n",
      "(197 , 199)\n",
      "(227 , 229)\n",
      "(239 , 241)\n",
      "(269 , 271)\n",
      "(281 , 283)\n",
      "(311 , 313)\n",
      "(347 , 349)\n",
      "(419 , 421)\n",
      "(431 , 433)\n",
      "(461 , 463)\n",
      "(521 , 523)\n",
      "(569 , 571)\n",
      "(599 , 601)\n",
      "(617 , 619)\n",
      "(641 , 643)\n",
      "(659 , 661)\n",
      "(809 , 811)\n",
      "(821 , 823)\n",
      "(827 , 829)\n",
      "(857 , 859)\n",
      "(881 , 883)\n"
     ]
    }
   ],
   "source": [
    "# 2.program to find TWIN PRIMES less than 1000\n",
    "lst=[] ; j=0 ; l=0\n",
    "\n",
    "\"\"\"logic to find all prime numbers less than 1000\"\"\"\n",
    "for number in range(2,1001):\n",
    "    prime=0\n",
    "    for j in range(2,number):\n",
    "        if(number%j==0):\n",
    "            prime=1\n",
    "    if(prime==0):\n",
    "        \"\"\"saving the prime numbers as a list \"\"\"\n",
    "        lst += [number]\n",
    "\n",
    "print(\"TWIN PRIMES less than 1000 :\")\n",
    "ln= len(lst)\n",
    "\"\"\"logic to find consecutive odd numbers in the list of prime numbers\"\"\"\n",
    "while((l+1)<ln):\n",
    "    if((lst[l+1]-lst[l])==2):\n",
    "        print(\"({} , {})\" .format(lst[l],lst[l+1]))\n",
    "    l += 1    "
   ]
  },
  {
   "cell_type": "code",
   "execution_count": 4,
   "metadata": {},
   "outputs": [
    {
     "name": "stdout",
     "output_type": "stream",
     "text": [
      "enter the number\n",
      "num=63\n",
      "prime factors of 63 :\n",
      "3\n",
      "3\n",
      "7\n"
     ]
    }
   ],
   "source": [
    "# 3.program to find prime factors of a number\n",
    "print(\"enter the number\")\n",
    "num = int(input(\"num=\"))\n",
    "f=2\n",
    "print(\"prime factors of {} :\" .format(num))\n",
    "\"\"\"logic to find prime factors: we keep on dividing given number as long as it is greater than 1\"\"\"\n",
    "while((num/f)>=1):\n",
    "    while(num%f==0): \n",
    "        print(f)\n",
    "        num /= f\n",
    "    f += 1    "
   ]
  },
  {
   "cell_type": "code",
   "execution_count": 5,
   "metadata": {},
   "outputs": [
    {
     "name": "stdout",
     "output_type": "stream",
     "text": [
      "n=3\n",
      "r=2\n",
      "p(3,2) = 6.0\n",
      "c(3,2) = 3.0\n"
     ]
    }
   ],
   "source": [
    "# 4.program to implement permutation and combination\n",
    "\n",
    "n = int(input(\"n=\"))\n",
    "r = int(input(\"r=\"))\n",
    "\n",
    "def fact(f):\n",
    "    factorial = 1\n",
    "    while(f>=1):\n",
    "        factorial *= f\n",
    "        f -= 1\n",
    "    return(factorial)    \n",
    "\n",
    "\"\"\"permutation\"\"\"\n",
    "print(\"p({},{}) = {}\" .format(n,r,(fact(n)/fact(n-r))))\n",
    "\"\"\"combination\"\"\"\n",
    "print(\"c({},{}) = {}\" .format(n,r,(fact(n)/(fact(r)*fact(n-r)))))"
   ]
  },
  {
   "cell_type": "code",
   "execution_count": 6,
   "metadata": {},
   "outputs": [
    {
     "name": "stdout",
     "output_type": "stream",
     "text": [
      "enter the number\n",
      "n=4\n",
      "the binary equivalent of 4 = 100"
     ]
    }
   ],
   "source": [
    "# 5.program to covert decimal numbers to binary\n",
    "\n",
    "print(\"enter the number\")\n",
    "def conv(n):\n",
    "    lst = [] ; ln=0\n",
    "    r = 0\n",
    "    \"\"\"finding remainder at each stage and inorder to print them in reverse order we make use of a list\"\"\"\n",
    "    while(n>=1):\n",
    "        r = n%2\n",
    "        lst += [int(r)]\n",
    "        n /= 2\n",
    "    ln = len(lst)\n",
    "    for i in range(ln-1 , -1 , -1):\n",
    "        print(lst[i] , end='')\n",
    "\n",
    "n = int(input(\"n=\"))\n",
    "print(\"the binary equivalent of {} = \" .format(n) , end='')\n",
    "conv(n)"
   ]
  },
  {
   "cell_type": "code",
   "execution_count": 11,
   "metadata": {},
   "outputs": [
    {
     "name": "stdout",
     "output_type": "stream",
     "text": [
      "enter the number\n",
      "n=153\n",
      "153 is armstrong\n"
     ]
    }
   ],
   "source": [
    "# 6.program to implement cubesum() , printarmstrong() , isarmstrong()\n",
    "print(\"enter the number\")\n",
    "n = int(input(\"n=\"))\n",
    "\n",
    "def cubesum(i):\n",
    "    \"\"\"fuunction to find sum of cube of digits\"\"\"\n",
    "    r = 0 ; cube = 0 ; sum = 0\n",
    "    while(i>0):\n",
    "        r = i%10\n",
    "        cube = r**3\n",
    "        sum = sum + cube\n",
    "        i = int(i/10)\n",
    "    return(sum)\n",
    "k=cubesum(n)  \n",
    "\n",
    "def printarmstrong(i):\n",
    "    \"\"\"function prints the given number if it is armstrong\"\"\"\n",
    "    if(i==k):\n",
    "        return(i)\n",
    "def isarmstrong(i):\n",
    "    \"\"\"funtion to check whether given number is armstrong , if so we print it using printarmstrong()\"\"\"\n",
    "    if(i==k):\n",
    "        print(\"{} is armstrong\" .format(printarmstrong(n)))\n",
    "    else:\n",
    "        print(\"given number is not armstrong\" .format(i))\n",
    "isarmstrong(n)"
   ]
  },
  {
   "cell_type": "code",
   "execution_count": 2,
   "metadata": {},
   "outputs": [
    {
     "name": "stdout",
     "output_type": "stream",
     "text": [
      "enter the number\n",
      "n=456\n",
      "the product of digits of 456 is 120\n"
     ]
    }
   ],
   "source": [
    "# 7. Funtion proDigits() to find product of digits of that number\n",
    "\n",
    "print(\"enter the number\")\n",
    "n = int(input(\"n=\"))\n",
    "\n",
    "def proDigits(i):\n",
    "    pro = 1\n",
    "    while(i>0):\n",
    "        k = i%10\n",
    "        pro *= k\n",
    "        i = int(i/10)\n",
    "    return pro\n",
    "print(\"the product of digits of {0} is {1}\" .format(n , proDigits(n)))\n",
    "        \n"
   ]
  },
  {
   "cell_type": "code",
   "execution_count": 4,
   "metadata": {},
   "outputs": [
    {
     "name": "stdout",
     "output_type": "stream",
     "text": [
      "enter the number\n",
      "n=36\n",
      "the sum of proper divisors of 36 are 55\n"
     ]
    }
   ],
   "source": [
    "#8. function sumPdivisors() to print sum of proper divisors of given number\n",
    "\n",
    "print(\"enter the number\")\n",
    "n = int(input(\"n=\"))\n",
    "\n",
    "def sumPdivisors(num):\n",
    "    lst = [] ; i=1 ; sum = 0\n",
    "    for i in range(1 , int(num/2)+1):\n",
    "        if((num%i)==0):\n",
    "            lst += [i]\n",
    "    for ele in lst :\n",
    "        sum += ele\n",
    "    return sum    \n",
    "print(\"the sum of proper divisors of {} are {}\" . format(n , sumPdivisors(n)))"
   ]
  },
  {
   "cell_type": "code",
   "execution_count": 8,
   "metadata": {},
   "outputs": [
    {
     "name": "stdout",
     "output_type": "stream",
     "text": [
      " enter the required range r1 and r2\n",
      "r1=1\n",
      "r2=10000\n",
      "[6, 28, 496, 8128]\n"
     ]
    }
   ],
   "source": [
    "#9 . program to print perfect numbers in a range\n",
    "\n",
    "print(\" enter the required range r1 and r2\")\n",
    "r1 = int(input(\"r1=\"))\n",
    "r2 = int(input(\"r2=\"))\n",
    "k=0 ; lst1 = []\n",
    " \n",
    "for k in range(r1 , r2 + 1):\n",
    "    if(k == sumPdivisors(k)):\n",
    "        lst1 += [k]\n",
    "print(lst1)        \n",
    "        "
   ]
  },
  {
   "cell_type": "code",
   "execution_count": 6,
   "metadata": {},
   "outputs": [
    {
     "name": "stdout",
     "output_type": "stream",
     "text": [
      "enter the ranges r1 and r2\n",
      "r1=1184\n",
      "r2=1220\n",
      "amicable pairs in given range [(1184, 1210), (1210, 1184)]\n"
     ]
    }
   ],
   "source": [
    "#10 . program to print all amicable numbers in a given range\n",
    "\"\"\"function to find sum of divisors\"\"\"\n",
    "def sumPdivisors(num):\n",
    "    lst = [] ; i=1 ; sum = 0\n",
    "    for i in range(1 , int(num/2)+1):\n",
    "        if((num%i)==0):\n",
    "            lst += [i]\n",
    "    for ele in lst :\n",
    "        sum += ele\n",
    "    return sum\n",
    "\n",
    "print(\"enter the ranges r1 and r2\")\n",
    "r1 = int(input(\"r1=\"))\n",
    "r2 = int(input(\"r2=\"))\n",
    "lsta = []\n",
    "for p in range(r1 , r2 + 1):\n",
    "    for q in range(r1 , r2 + 1):\n",
    "        if((p == sumPdivisors(q))and(q == sumPdivisors(p))and(p!=q)):\n",
    "            lsta += [(p , q)]\n",
    "print(\"amicable pairs in given range {}\" .format(lsta))"
   ]
  }
 ],
 "metadata": {
  "kernelspec": {
   "display_name": "Python 3",
   "language": "python",
   "name": "python3"
  },
  "language_info": {
   "codemirror_mode": {
    "name": "ipython",
    "version": 3
   },
   "file_extension": ".py",
   "mimetype": "text/x-python",
   "name": "python",
   "nbconvert_exporter": "python",
   "pygments_lexer": "ipython3",
   "version": "3.6.4"
  }
 },
 "nbformat": 4,
 "nbformat_minor": 2
}
